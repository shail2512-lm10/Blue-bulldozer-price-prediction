{
 "cells": [
  {
   "cell_type": "code",
   "execution_count": 1,
   "metadata": {},
   "outputs": [],
   "source": [
    "from joblib import load"
   ]
  },
  {
   "cell_type": "code",
   "execution_count": 2,
   "metadata": {},
   "outputs": [],
   "source": [
    "import pandas as pd\n",
    "import numpy as np\n",
    "from sklearn.metrics import mean_squared_error"
   ]
  },
  {
   "cell_type": "code",
   "execution_count": 3,
   "metadata": {},
   "outputs": [],
   "source": [
    "bull_valid = pd.read_csv('Valid.csv',parse_dates=['saledate'],low_memory=False)"
   ]
  },
  {
   "cell_type": "code",
   "execution_count": 4,
   "metadata": {},
   "outputs": [
    {
     "data": {
      "text/html": [
       "<div>\n",
       "<style scoped>\n",
       "    .dataframe tbody tr th:only-of-type {\n",
       "        vertical-align: middle;\n",
       "    }\n",
       "\n",
       "    .dataframe tbody tr th {\n",
       "        vertical-align: top;\n",
       "    }\n",
       "\n",
       "    .dataframe thead th {\n",
       "        text-align: right;\n",
       "    }\n",
       "</style>\n",
       "<table border=\"1\" class=\"dataframe\">\n",
       "  <thead>\n",
       "    <tr style=\"text-align: right;\">\n",
       "      <th></th>\n",
       "      <th>SalesID</th>\n",
       "      <th>MachineID</th>\n",
       "      <th>ModelID</th>\n",
       "      <th>datasource</th>\n",
       "      <th>auctioneerID</th>\n",
       "      <th>YearMade</th>\n",
       "      <th>MachineHoursCurrentMeter</th>\n",
       "      <th>UsageBand</th>\n",
       "      <th>saledate</th>\n",
       "      <th>fiModelDesc</th>\n",
       "      <th>...</th>\n",
       "      <th>Undercarriage_Pad_Width</th>\n",
       "      <th>Stick_Length</th>\n",
       "      <th>Thumb</th>\n",
       "      <th>Pattern_Changer</th>\n",
       "      <th>Grouser_Type</th>\n",
       "      <th>Backhoe_Mounting</th>\n",
       "      <th>Blade_Type</th>\n",
       "      <th>Travel_Controls</th>\n",
       "      <th>Differential_Type</th>\n",
       "      <th>Steering_Controls</th>\n",
       "    </tr>\n",
       "  </thead>\n",
       "  <tbody>\n",
       "    <tr>\n",
       "      <th>0</th>\n",
       "      <td>1222837</td>\n",
       "      <td>902859</td>\n",
       "      <td>1376</td>\n",
       "      <td>121</td>\n",
       "      <td>3</td>\n",
       "      <td>1000</td>\n",
       "      <td>0.0</td>\n",
       "      <td>NaN</td>\n",
       "      <td>2012-01-05</td>\n",
       "      <td>375L</td>\n",
       "      <td>...</td>\n",
       "      <td>None or Unspecified</td>\n",
       "      <td>None or Unspecified</td>\n",
       "      <td>None or Unspecified</td>\n",
       "      <td>None or Unspecified</td>\n",
       "      <td>Double</td>\n",
       "      <td>NaN</td>\n",
       "      <td>NaN</td>\n",
       "      <td>NaN</td>\n",
       "      <td>NaN</td>\n",
       "      <td>NaN</td>\n",
       "    </tr>\n",
       "    <tr>\n",
       "      <th>1</th>\n",
       "      <td>1222839</td>\n",
       "      <td>1048320</td>\n",
       "      <td>36526</td>\n",
       "      <td>121</td>\n",
       "      <td>3</td>\n",
       "      <td>2006</td>\n",
       "      <td>4412.0</td>\n",
       "      <td>Medium</td>\n",
       "      <td>2012-01-05</td>\n",
       "      <td>TX300LC2</td>\n",
       "      <td>...</td>\n",
       "      <td>None or Unspecified</td>\n",
       "      <td>12' 4\"</td>\n",
       "      <td>None or Unspecified</td>\n",
       "      <td>Yes</td>\n",
       "      <td>Double</td>\n",
       "      <td>NaN</td>\n",
       "      <td>NaN</td>\n",
       "      <td>NaN</td>\n",
       "      <td>NaN</td>\n",
       "      <td>NaN</td>\n",
       "    </tr>\n",
       "    <tr>\n",
       "      <th>2</th>\n",
       "      <td>1222841</td>\n",
       "      <td>999308</td>\n",
       "      <td>4587</td>\n",
       "      <td>121</td>\n",
       "      <td>3</td>\n",
       "      <td>2000</td>\n",
       "      <td>10127.0</td>\n",
       "      <td>Medium</td>\n",
       "      <td>2012-01-05</td>\n",
       "      <td>270LC</td>\n",
       "      <td>...</td>\n",
       "      <td>None or Unspecified</td>\n",
       "      <td>12' 4\"</td>\n",
       "      <td>None or Unspecified</td>\n",
       "      <td>None or Unspecified</td>\n",
       "      <td>Double</td>\n",
       "      <td>NaN</td>\n",
       "      <td>NaN</td>\n",
       "      <td>NaN</td>\n",
       "      <td>NaN</td>\n",
       "      <td>NaN</td>\n",
       "    </tr>\n",
       "    <tr>\n",
       "      <th>3</th>\n",
       "      <td>1222843</td>\n",
       "      <td>1062425</td>\n",
       "      <td>1954</td>\n",
       "      <td>121</td>\n",
       "      <td>3</td>\n",
       "      <td>1000</td>\n",
       "      <td>4682.0</td>\n",
       "      <td>Low</td>\n",
       "      <td>2012-01-05</td>\n",
       "      <td>892DLC</td>\n",
       "      <td>...</td>\n",
       "      <td>None or Unspecified</td>\n",
       "      <td>None or Unspecified</td>\n",
       "      <td>None or Unspecified</td>\n",
       "      <td>None or Unspecified</td>\n",
       "      <td>Double</td>\n",
       "      <td>NaN</td>\n",
       "      <td>NaN</td>\n",
       "      <td>NaN</td>\n",
       "      <td>NaN</td>\n",
       "      <td>NaN</td>\n",
       "    </tr>\n",
       "    <tr>\n",
       "      <th>4</th>\n",
       "      <td>1222845</td>\n",
       "      <td>1032841</td>\n",
       "      <td>4701</td>\n",
       "      <td>121</td>\n",
       "      <td>3</td>\n",
       "      <td>2002</td>\n",
       "      <td>8150.0</td>\n",
       "      <td>Medium</td>\n",
       "      <td>2012-01-04</td>\n",
       "      <td>544H</td>\n",
       "      <td>...</td>\n",
       "      <td>NaN</td>\n",
       "      <td>NaN</td>\n",
       "      <td>NaN</td>\n",
       "      <td>NaN</td>\n",
       "      <td>NaN</td>\n",
       "      <td>NaN</td>\n",
       "      <td>NaN</td>\n",
       "      <td>NaN</td>\n",
       "      <td>Standard</td>\n",
       "      <td>Conventional</td>\n",
       "    </tr>\n",
       "  </tbody>\n",
       "</table>\n",
       "<p>5 rows × 52 columns</p>\n",
       "</div>"
      ],
      "text/plain": [
       "   SalesID  MachineID  ModelID  datasource  auctioneerID  YearMade  \\\n",
       "0  1222837     902859     1376         121             3      1000   \n",
       "1  1222839    1048320    36526         121             3      2006   \n",
       "2  1222841     999308     4587         121             3      2000   \n",
       "3  1222843    1062425     1954         121             3      1000   \n",
       "4  1222845    1032841     4701         121             3      2002   \n",
       "\n",
       "   MachineHoursCurrentMeter UsageBand   saledate fiModelDesc  \\\n",
       "0                       0.0       NaN 2012-01-05        375L   \n",
       "1                    4412.0    Medium 2012-01-05    TX300LC2   \n",
       "2                   10127.0    Medium 2012-01-05       270LC   \n",
       "3                    4682.0       Low 2012-01-05      892DLC   \n",
       "4                    8150.0    Medium 2012-01-04        544H   \n",
       "\n",
       "         ...        Undercarriage_Pad_Width         Stick_Length  \\\n",
       "0        ...            None or Unspecified  None or Unspecified   \n",
       "1        ...            None or Unspecified               12' 4\"   \n",
       "2        ...            None or Unspecified               12' 4\"   \n",
       "3        ...            None or Unspecified  None or Unspecified   \n",
       "4        ...                            NaN                  NaN   \n",
       "\n",
       "                 Thumb      Pattern_Changer Grouser_Type Backhoe_Mounting  \\\n",
       "0  None or Unspecified  None or Unspecified       Double              NaN   \n",
       "1  None or Unspecified                  Yes       Double              NaN   \n",
       "2  None or Unspecified  None or Unspecified       Double              NaN   \n",
       "3  None or Unspecified  None or Unspecified       Double              NaN   \n",
       "4                  NaN                  NaN          NaN              NaN   \n",
       "\n",
       "  Blade_Type Travel_Controls Differential_Type Steering_Controls  \n",
       "0        NaN             NaN               NaN               NaN  \n",
       "1        NaN             NaN               NaN               NaN  \n",
       "2        NaN             NaN               NaN               NaN  \n",
       "3        NaN             NaN               NaN               NaN  \n",
       "4        NaN             NaN          Standard      Conventional  \n",
       "\n",
       "[5 rows x 52 columns]"
      ]
     },
     "execution_count": 4,
     "metadata": {},
     "output_type": "execute_result"
    }
   ],
   "source": [
    "bull_valid.head()"
   ]
  },
  {
   "cell_type": "code",
   "execution_count": 5,
   "metadata": {},
   "outputs": [
    {
     "name": "stdout",
     "output_type": "stream",
     "text": [
      "<class 'pandas.core.frame.DataFrame'>\n",
      "RangeIndex: 11573 entries, 0 to 11572\n",
      "Data columns (total 52 columns):\n",
      "SalesID                     11573 non-null int64\n",
      "MachineID                   11573 non-null int64\n",
      "ModelID                     11573 non-null int64\n",
      "datasource                  11573 non-null int64\n",
      "auctioneerID                11573 non-null int64\n",
      "YearMade                    11573 non-null int64\n",
      "MachineHoursCurrentMeter    4739 non-null float64\n",
      "UsageBand                   4031 non-null object\n",
      "saledate                    11573 non-null datetime64[ns]\n",
      "fiModelDesc                 11573 non-null object\n",
      "fiBaseModel                 11573 non-null object\n",
      "fiSecondaryDesc             8037 non-null object\n",
      "fiModelSeries               1759 non-null object\n",
      "fiModelDescriptor           2897 non-null object\n",
      "ProductSize                 5743 non-null object\n",
      "fiProductClassDesc          11573 non-null object\n",
      "state                       11573 non-null object\n",
      "ProductGroup                11573 non-null object\n",
      "ProductGroupDesc            11573 non-null object\n",
      "Drive_System                2726 non-null object\n",
      "Enclosure                   11564 non-null object\n",
      "Forks                       5638 non-null object\n",
      "Pad_Type                    1962 non-null object\n",
      "Ride_Control                4122 non-null object\n",
      "Stick                       1962 non-null object\n",
      "Transmission                4777 non-null object\n",
      "Turbocharged                1962 non-null object\n",
      "Blade_Extension             764 non-null object\n",
      "Blade_Width                 764 non-null object\n",
      "Enclosure_Type              764 non-null object\n",
      "Engine_Horsepower           764 non-null object\n",
      "Hydraulics                  9563 non-null object\n",
      "Pushblock                   764 non-null object\n",
      "Ripper                      2808 non-null object\n",
      "Scarifier                   764 non-null object\n",
      "Tip_Control                 764 non-null object\n",
      "Tire_Size                   2920 non-null object\n",
      "Coupler                     6727 non-null object\n",
      "Coupler_System              1516 non-null object\n",
      "Grouser_Tracks              1513 non-null object\n",
      "Hydraulics_Flow             1513 non-null object\n",
      "Track_Type                  3040 non-null object\n",
      "Undercarriage_Pad_Width     3044 non-null object\n",
      "Stick_Length                3043 non-null object\n",
      "Thumb                       3044 non-null object\n",
      "Pattern_Changer             3043 non-null object\n",
      "Grouser_Type                3040 non-null object\n",
      "Backhoe_Mounting            2040 non-null object\n",
      "Blade_Type                  2042 non-null object\n",
      "Travel_Controls             2043 non-null object\n",
      "Differential_Type           2153 non-null object\n",
      "Steering_Controls           2153 non-null object\n",
      "dtypes: datetime64[ns](1), float64(1), int64(6), object(44)\n",
      "memory usage: 4.6+ MB\n"
     ]
    }
   ],
   "source": [
    "bull_valid.info()"
   ]
  },
  {
   "cell_type": "code",
   "execution_count": 7,
   "metadata": {},
   "outputs": [],
   "source": [
    "x1 = bull_valid.drop(['SalesID','saledate','MachineID','ModelID','datasource','auctioneerID','YearMade','MachineHoursCurrentMeter'],axis=1)\n",
    "x2 = bull_valid.iloc[:,0:7]"
   ]
  },
  {
   "cell_type": "code",
   "execution_count": 8,
   "metadata": {},
   "outputs": [],
   "source": [
    "# Fill missing values and categorize and numericalize the data\n",
    "\n",
    "x2.fillna(value={'auctioneerID':0,'MachineHoursCurrentMeter':0},inplace=True)\n",
    "\n",
    "def categorize(df):\n",
    "    for n in df:\n",
    "        df[n] = df[n].astype('category',inplace=True)\n",
    "\n",
    "categorize(x1)        \n",
    "\n",
    "x1.UsageBand.cat.set_categories(['Low','Medium','High'],ordered=True,inplace=True)\n",
    "\n",
    "def numericalize(df):\n",
    "    for n in df:\n",
    "        df[n] = df[n].cat.codes + 1\n",
    "        \n",
    "        \n",
    "numericalize(x1)"
   ]
  },
  {
   "cell_type": "code",
   "execution_count": 10,
   "metadata": {},
   "outputs": [],
   "source": [
    "# merge x2 & x1 \n",
    "\n",
    "x1['SalesID'] = bull_valid['SalesID']\n",
    "\n",
    "x = pd.merge(x2,x1,on='SalesID',how='outer')"
   ]
  },
  {
   "cell_type": "code",
   "execution_count": 11,
   "metadata": {},
   "outputs": [
    {
     "data": {
      "text/plain": [
       "SalesID                     0\n",
       "MachineID                   0\n",
       "ModelID                     0\n",
       "datasource                  0\n",
       "auctioneerID                0\n",
       "YearMade                    0\n",
       "MachineHoursCurrentMeter    0\n",
       "UsageBand                   0\n",
       "fiModelDesc                 0\n",
       "fiBaseModel                 0\n",
       "fiSecondaryDesc             0\n",
       "fiModelSeries               0\n",
       "fiModelDescriptor           0\n",
       "ProductSize                 0\n",
       "fiProductClassDesc          0\n",
       "state                       0\n",
       "ProductGroup                0\n",
       "ProductGroupDesc            0\n",
       "Drive_System                0\n",
       "Enclosure                   0\n",
       "Forks                       0\n",
       "Pad_Type                    0\n",
       "Ride_Control                0\n",
       "Stick                       0\n",
       "Transmission                0\n",
       "Turbocharged                0\n",
       "Blade_Extension             0\n",
       "Blade_Width                 0\n",
       "Enclosure_Type              0\n",
       "Engine_Horsepower           0\n",
       "Hydraulics                  0\n",
       "Pushblock                   0\n",
       "Ripper                      0\n",
       "Scarifier                   0\n",
       "Tip_Control                 0\n",
       "Tire_Size                   0\n",
       "Coupler                     0\n",
       "Coupler_System              0\n",
       "Grouser_Tracks              0\n",
       "Hydraulics_Flow             0\n",
       "Track_Type                  0\n",
       "Undercarriage_Pad_Width     0\n",
       "Stick_Length                0\n",
       "Thumb                       0\n",
       "Pattern_Changer             0\n",
       "Grouser_Type                0\n",
       "Backhoe_Mounting            0\n",
       "Blade_Type                  0\n",
       "Travel_Controls             0\n",
       "Differential_Type           0\n",
       "Steering_Controls           0\n",
       "dtype: int64"
      ]
     },
     "execution_count": 11,
     "metadata": {},
     "output_type": "execute_result"
    }
   ],
   "source": [
    "x.isna().sum()"
   ]
  },
  {
   "cell_type": "code",
   "execution_count": 13,
   "metadata": {},
   "outputs": [
    {
     "data": {
      "text/plain": [
       "(11573, 57)"
      ]
     },
     "execution_count": 13,
     "metadata": {},
     "output_type": "execute_result"
    }
   ],
   "source": [
    "# converting datetime into different features\n",
    "\n",
    "x['DayOfYear'] = bull_valid.saledate.dt.dayofyear\n",
    "x['WeekOfYear'] = bull_valid.saledate.dt.weekofyear\n",
    "x['month_end'] = bull_valid.saledate.dt.is_month_end\n",
    "x['month_start'] = bull_valid.saledate.dt.is_month_start\n",
    "x['year'] = bull_valid.saledate.dt.year\n",
    "x['month'] = bull_valid.saledate.dt.month\n",
    "\n",
    "\n",
    "x.shape"
   ]
  },
  {
   "cell_type": "code",
   "execution_count": 14,
   "metadata": {},
   "outputs": [],
   "source": [
    "valid_solution = pd.read_csv('ValidSolution.csv')"
   ]
  },
  {
   "cell_type": "code",
   "execution_count": 17,
   "metadata": {},
   "outputs": [],
   "source": [
    "valid_solution.drop(['Usage'],axis=1,inplace=True)"
   ]
  },
  {
   "cell_type": "code",
   "execution_count": 18,
   "metadata": {},
   "outputs": [
    {
     "data": {
      "text/plain": [
       "(11573, 2)"
      ]
     },
     "execution_count": 18,
     "metadata": {},
     "output_type": "execute_result"
    }
   ],
   "source": [
    "valid_solution.shape"
   ]
  },
  {
   "cell_type": "code",
   "execution_count": 21,
   "metadata": {},
   "outputs": [],
   "source": [
    "y_actual = np.log(valid_solution.SalePrice)"
   ]
  },
  {
   "cell_type": "code",
   "execution_count": 33,
   "metadata": {},
   "outputs": [],
   "source": [
    "loaded_best_rf_model = load(filename='best_rf_model_1.joblib')"
   ]
  },
  {
   "cell_type": "code",
   "execution_count": 34,
   "metadata": {},
   "outputs": [],
   "source": [
    "from math import sqrt\n",
    "\n",
    "\n",
    "def print_scores(x,y_actual,y_pred,model):\n",
    "    print(f'test score = ',model.score(x,y_actual))\n",
    "    print(f'RMSL ERROR = ',sqrt(mean_squared_error(y_actual,y_pred)))"
   ]
  },
  {
   "cell_type": "code",
   "execution_count": 35,
   "metadata": {},
   "outputs": [
    {
     "name": "stderr",
     "output_type": "stream",
     "text": [
      "[Parallel(n_jobs=4)]: Using backend ThreadingBackend with 4 concurrent workers.\n",
      "[Parallel(n_jobs=4)]: Done  42 tasks      | elapsed:    0.0s\n",
      "[Parallel(n_jobs=4)]: Done 100 out of 100 | elapsed:    0.0s finished\n"
     ]
    }
   ],
   "source": [
    "y_preds = loaded_best_rf_model.predict(x)"
   ]
  },
  {
   "cell_type": "code",
   "execution_count": 36,
   "metadata": {},
   "outputs": [
    {
     "name": "stdout",
     "output_type": "stream",
     "text": [
      "test score =  0.6053227820248752\n",
      "RMSL ERROR =  0.4613906643395231\n"
     ]
    },
    {
     "name": "stderr",
     "output_type": "stream",
     "text": [
      "[Parallel(n_jobs=4)]: Using backend ThreadingBackend with 4 concurrent workers.\n",
      "[Parallel(n_jobs=4)]: Done  42 tasks      | elapsed:    0.0s\n",
      "[Parallel(n_jobs=4)]: Done 100 out of 100 | elapsed:    0.0s finished\n"
     ]
    }
   ],
   "source": [
    "print_scores(x,y_actual,y_preds,loaded_best_rf_model)"
   ]
  },
  {
   "cell_type": "code",
   "execution_count": null,
   "metadata": {},
   "outputs": [],
   "source": []
  },
  {
   "cell_type": "code",
   "execution_count": null,
   "metadata": {},
   "outputs": [],
   "source": []
  },
  {
   "cell_type": "code",
   "execution_count": null,
   "metadata": {},
   "outputs": [],
   "source": []
  }
 ],
 "metadata": {
  "kernelspec": {
   "display_name": "Python 3",
   "language": "python",
   "name": "python3"
  },
  "language_info": {
   "codemirror_mode": {
    "name": "ipython",
    "version": 3
   },
   "file_extension": ".py",
   "mimetype": "text/x-python",
   "name": "python",
   "nbconvert_exporter": "python",
   "pygments_lexer": "ipython3",
   "version": "3.7.1"
  }
 },
 "nbformat": 4,
 "nbformat_minor": 2
}
